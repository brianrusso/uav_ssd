{
 "cells": [
  {
   "cell_type": "code",
   "execution_count": 5,
   "metadata": {
    "collapsed": false
   },
   "outputs": [
    {
     "name": "stdout",
     "output_type": "stream",
     "text": [
      "['5UGhTHExCyA-0000.mp4', '5UGhTHExCyA-0001.mp4', '5UGhTHExCyA-0002.mp4', 'AZ9jkxLJ-w0-0000.mp4', 'AZ9jkxLJ-w0-0001.mp4', 'AZ9jkxLJ-w0-0002.mp4', 'AZ9jkxLJ-w0-0003.mp4', 'SohsjBe9d8E-0000.mp4', 'SohsjBe9d8E-0001.mp4', 'SohsjBe9d8E-0002.mp4', 'SohsjBe9d8E-0003.mp4', 'SohsjBe9d8E-0004.mp4', 'SohsjBe9d8E-0005.mp4', 'SohsjBe9d8E-0006.mp4', 'SohsjBe9d8E-0007.mp4', 'SohsjBe9d8E-0008.mp4', 'Ue0LTaiVkzk-0000.mp4', 'Ue0LTaiVkzk-0001.mp4', 'Ue0LTaiVkzk-0002.mp4', 'Ue0LTaiVkzk-0003.mp4', 'Ue0LTaiVkzk-0004.mp4', 'Ue0LTaiVkzk-0005.mp4', 'Ue0LTaiVkzk-0006.mp4', 'Ue0LTaiVkzk-0007.mp4', 'bl4ncXJlya4-0000.mp4', 'bl4ncXJlya4-0001.mp4', 'bl4ncXJlya4-0002.mp4', 'bl4ncXJlya4-0003.mp4', 'bl4ncXJlya4-0004.mp4', 'bl4ncXJlya4-0005.mp4', 'ndrz4FgW5Ac-0000.mp4', 'ndrz4FgW5Ac-0001.mp4', 'ndrz4FgW5Ac-0002.mp4', 'ndrz4FgW5Ac-0003.mp4', 'ndrz4FgW5Ac-0004.mp4', 'ndrz4FgW5Ac-0005.mp4', 'ndrz4FgW5Ac-0006.mp4', 'ndrz4FgW5Ac-0007.mp4', 'ndrz4FgW5Ac-0008.mp4', 'zZc5J2Rv7xQ-0000.mp4', 'zZc5J2Rv7xQ-0001.mp4', 'zZc5J2Rv7xQ-0002.mp4', 'zZc5J2Rv7xQ-0003.mp4', 'zZc5J2Rv7xQ-0004.mp4', 'zZc5J2Rv7xQ-0005.mp4', 'zZc5J2Rv7xQ-0006.mp4', 'zZc5J2Rv7xQ-0007.mp4', 'zZc5J2Rv7xQ-0008.mp4', 'zZc5J2Rv7xQ-0009.mp4']\n"
     ]
    }
   ],
   "source": [
    "import boto3\n",
    "s3 = boto3.resource('s3')\n",
    "\n",
    "bucket = s3.Bucket('cartobits-public')\n",
    "\n",
    "vid_files = []\n",
    "for obj in bucket.objects.all():\n",
    "    vid_files.append(obj.key)\n",
    "    \n",
    "print(vid_files)\n",
    "\n"
   ]
  },
  {
   "cell_type": "code",
   "execution_count": 3,
   "metadata": {
    "collapsed": false
   },
   "outputs": [
    {
     "ename": "AttributeError",
     "evalue": "'s3.Bucket' object has no attribute 'get'",
     "output_type": "error",
     "traceback": [
      "\u001b[0;31m---------------------------------------------------------------------------\u001b[0m",
      "\u001b[0;31mAttributeError\u001b[0m                            Traceback (most recent call last)",
      "\u001b[0;32m<ipython-input-3-95508fc5e9ea>\u001b[0m in \u001b[0;36m<module>\u001b[0;34m()\u001b[0m\n\u001b[0;32m----> 1\u001b[0;31m \u001b[0mcb_pb\u001b[0m \u001b[0;34m=\u001b[0m \u001b[0mbucket\u001b[0m\u001b[0;34m.\u001b[0m\u001b[0mget\u001b[0m\u001b[0;34m(\u001b[0m\u001b[0;34m'cartobits-public'\u001b[0m\u001b[0;34m)\u001b[0m\u001b[0;34m\u001b[0m\u001b[0m\n\u001b[0m",
      "\u001b[0;31mAttributeError\u001b[0m: 's3.Bucket' object has no attribute 'get'"
     ]
    }
   ],
   "source": [
    "cb_pb = bucket.get('cartobits-public')"
   ]
  },
  {
   "cell_type": "code",
   "execution_count": null,
   "metadata": {
    "collapsed": true
   },
   "outputs": [],
   "source": []
  },
  {
   "cell_type": "code",
   "execution_count": null,
   "metadata": {
    "collapsed": true
   },
   "outputs": [],
   "source": [
    "\n",
    "for key in bucket.list():\n",
    "    print( key.name.encode('utf-8'))"
   ]
  }
 ],
 "metadata": {
  "kernelspec": {
   "display_name": "Python 3",
   "language": "python",
   "name": "python3"
  },
  "language_info": {
   "codemirror_mode": {
    "name": "ipython",
    "version": 3
   },
   "file_extension": ".py",
   "mimetype": "text/x-python",
   "name": "python",
   "nbconvert_exporter": "python",
   "pygments_lexer": "ipython3",
   "version": "3.5.2"
  }
 },
 "nbformat": 4,
 "nbformat_minor": 2
}
